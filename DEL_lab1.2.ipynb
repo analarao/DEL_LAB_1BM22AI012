{
 "cells": [
  {
   "cell_type": "code",
   "execution_count": 2,
   "id": "aa506715",
   "metadata": {},
   "outputs": [
    {
     "name": "stdout",
     "output_type": "stream",
     "text": [
      "Expected: 0 Actual: 0.032\n",
      "Expected: 1 Actual: 0.992\n",
      "Expected: 1 Actual: 0.99\n",
      "Expected: 0 Actual: 0.0\n"
     ]
    }
   ],
   "source": [
    "import numpy as np\n",
    "import random \n",
    "\n",
    "\n",
    "def sigmoid(x,a=1):\n",
    "    return 1/(1+np.exp(-a*x))\n",
    "\n",
    "def relu(x):\n",
    "    return np.maximum(0,x)\n",
    "\n",
    "def tanh(x):\n",
    "    return (np.exp(x)-np.exp(-x))/(np.exp(x)+np.exp(-x))\n",
    "\n",
    "def threshold(x):\n",
    "    return np.where(x>0,1,0)\n",
    "\n",
    "def leaky_relu(x):\n",
    "    return np.where(x>0,x,0.01*x)\n",
    "\n",
    "class Neuron:\n",
    "    x = np.array([[0,0],[0,1],[1,0],[1,1]])\n",
    "    y = [0,1,1,0]\n",
    "    b = 2\n",
    "    def __init__(self, fn):\n",
    "        self.w = np.array([[random.random() for i in range(2)] for j in range(len(self.x))])\n",
    "        self.fn = fn\n",
    "    def fpass(self):\n",
    "        self.y_pred = []\n",
    "        for i in range(len(self.x)):\n",
    "            h = np.sum(self.x[i]*self.w[i])+self.b\n",
    "            self.y_pred.append(self.fn(h))\n",
    "        return self.y_pred\n",
    "    def update(self, learning_rate=0.1):\n",
    "        for i in range(len(self.x)):\n",
    "            h = np.sum(self.x[i]*self.w[i])+self.b\n",
    "            ypred = self.fn(h)\n",
    "            error = self.y[i] - ypred\n",
    "            for j in range(len(self.w[i])):\n",
    "                self.w[i][j] += learning_rate * error * self.x[i][j]\n",
    "            self.b += learning_rate * error\n",
    "n = Neuron(relu)\n",
    "epochs = 100\n",
    "for epoch in range(epochs):\n",
    "  y_pred = n.fpass()\n",
    "  n.update()\n",
    "for i in range(4):\n",
    "    print(\"Expected:\",n.y[i], end=' ')\n",
    "    print(\"Actual:\",round(y_pred[i],3))"
   ]
  },
  {
   "cell_type": "code",
   "execution_count": null,
   "id": "4e3a371c",
   "metadata": {},
   "outputs": [],
   "source": [
    "\n",
    "        "
   ]
  },
  {
   "cell_type": "code",
   "execution_count": null,
   "id": "6ce13a34",
   "metadata": {},
   "outputs": [],
   "source": []
  },
  {
   "cell_type": "code",
   "execution_count": null,
   "id": "d17ed8c2",
   "metadata": {},
   "outputs": [],
   "source": []
  },
  {
   "cell_type": "code",
   "execution_count": null,
   "id": "a1515014",
   "metadata": {},
   "outputs": [],
   "source": []
  },
  {
   "cell_type": "code",
   "execution_count": null,
   "id": "4f37b57d",
   "metadata": {},
   "outputs": [],
   "source": []
  }
 ],
 "metadata": {
  "kernelspec": {
   "display_name": "Python 3 (ipykernel)",
   "language": "python",
   "name": "python3"
  },
  "language_info": {
   "codemirror_mode": {
    "name": "ipython",
    "version": 3
   },
   "file_extension": ".py",
   "mimetype": "text/x-python",
   "name": "python",
   "nbconvert_exporter": "python",
   "pygments_lexer": "ipython3",
   "version": "3.9.12"
  }
 },
 "nbformat": 4,
 "nbformat_minor": 5
}
